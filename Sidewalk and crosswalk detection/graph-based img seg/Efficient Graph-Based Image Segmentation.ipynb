{
 "cells": [
  {
   "cell_type": "code",
   "execution_count": 1,
   "metadata": {},
   "outputs": [],
   "source": [
    "from random import random\n",
    "import numpy as np\n",
    "import cv2\n",
    "import matplotlib.image as mpimg \n",
    "import matplotlib.pyplot as plt \n",
    "import skimage\n",
    "import scipy\n",
    "%matplotlib inline"
   ]
  },
  {
   "cell_type": "code",
   "execution_count": 58,
   "metadata": {},
   "outputs": [],
   "source": [
    "from PIL import Image"
   ]
  },
  {
   "cell_type": "code",
   "execution_count": 2,
   "metadata": {},
   "outputs": [],
   "source": [
    "def read_image(IMG_NAME):\n",
    "    img = cv2.imread(IMG_NAME)\n",
    "    return cv2.resize(img, (480, 360))"
   ]
  },
  {
   "cell_type": "code",
   "execution_count": 22,
   "metadata": {},
   "outputs": [],
   "source": [
    "class Vertex:\n",
    "    def __init__(self, parent, rank=0, size=1):\n",
    "        self.p = parent\n",
    "        self.r = rank\n",
    "        self.s = size\n",
    "\n",
    "class Universe:\n",
    "    def __init__(self, num_v):\n",
    "        self.v = [Vertex(i) for i in range(num_v)]\n",
    "        self.num_v = num_v\n",
    "\n",
    "    def size(self, i):\n",
    "        return self.v[i].s\n",
    "\n",
    "    def find(self, n):\n",
    "        temp = n\n",
    "        while temp != self.v[temp].p:\n",
    "            temp = self.v[temp].p\n",
    "        self.v[n].p = temp\n",
    "        return temp\n",
    "\n",
    "    def union(self, a, b):\n",
    "        if self.v[a].r > self.v[b].r:\n",
    "            self.v[b].p = a\n",
    "            self.v[a].s += self.v[b].s\n",
    "        else:\n",
    "            self.v[a].p = b\n",
    "            self.v[b].s += self.v[a].s\n",
    "            if self.v[a].r == self.v[b].r:\n",
    "                self.v[b].r += 1\n",
    "        self.num_v -= 1"
   ]
  },
  {
   "cell_type": "code",
   "execution_count": 106,
   "metadata": {},
   "outputs": [],
   "source": [
    "def threshold_func(size, k):\n",
    "    return (k * 1.0 / size)"
   ]
  },
  {
   "cell_type": "code",
   "execution_count": 117,
   "metadata": {},
   "outputs": [],
   "source": [
    "def build(img):\n",
    "    h, w, _ = img.shape\n",
    "    edges = []\n",
    "    \n",
    "    def create_edge(img, x, y, x1, y1):\n",
    "        def vertex(x, y):\n",
    "            return x * w + y\n",
    "        return (vertex(x, y), vertex(x1, y1), np.sqrt(np.sum((img[x, y] - img[x1, y1]) ** 2)))\n",
    "\n",
    "    for x in range(h):\n",
    "        for y in range(w):\n",
    "            if x > 0:\n",
    "                edges.append(create_edge(img, x, y, x-1, y))\n",
    "            if y > 0:\n",
    "                edges.append(create_edge(img, x, y, x, y-1))\n",
    "            if x > 0 and y > 0:\n",
    "                edges.append(create_edge(img, x, y, x-1, y-1))\n",
    "            if x > 0 and y < h-1:\n",
    "                edges.append(create_edge(img, x, y, x-1, y+1))\n",
    "\n",
    "    return edges"
   ]
  },
  {
   "cell_type": "code",
   "execution_count": 131,
   "metadata": {},
   "outputs": [],
   "source": [
    "def generate_image(u, w, h):\n",
    "    random_color = lambda: (int(random()*255), int(random()*255), int(random()*255))\n",
    "    colors = [random_color() for i in range(w*h)]\n",
    "\n",
    "    img = Image.new('RGB', (h, w))\n",
    "    im = img.load()\n",
    "    for x in range(h):\n",
    "        for y in range(w):\n",
    "            comp = u.find(x * w + y)\n",
    "            im[x, y] = colors[comp]\n",
    "\n",
    "    return img.transpose(Image.ROTATE_270).transpose(Image.FLIP_LEFT_RIGHT)"
   ]
  },
  {
   "cell_type": "code",
   "execution_count": 135,
   "metadata": {},
   "outputs": [],
   "source": [
    "sigma = 1\n",
    "k = 8000\n",
    "min_size = 5000"
   ]
  },
  {
   "cell_type": "code",
   "execution_count": 139,
   "metadata": {},
   "outputs": [],
   "source": [
    "def img_seg(IMG_NAME):\n",
    "    img = read_image(IMG_NAME)\n",
    "    img = scipy.ndimage.gaussian_filter(img, sigma = sigma)\n",
    "    edges = build(img)\n",
    "\n",
    "    weight = lambda edge: edge[2]\n",
    "    sorted_edges = sorted(edges, key=weight)\n",
    "    h, w, _ = img.shape\n",
    "    num_v = h*w\n",
    "    u = Universe(num_v)\n",
    "    threshold = [threshold_func(1, k) for _ in range(num_v)]\n",
    "\n",
    "    for edge in sorted_edges:\n",
    "            p_a = u.find(edge[0])\n",
    "            p_b = u.find(edge[1])\n",
    "            a_condition = weight(edge) <= threshold[p_a]\n",
    "            b_condition = weight(edge) <= threshold[p_b]\n",
    "\n",
    "            if p_a != p_b and a_condition and b_condition:\n",
    "                u.union(p_a, p_b)\n",
    "                a = u.find(p_a)\n",
    "                threshold[a] = weight(edge) + threshold_func(u.v[a].s, k)\n",
    "\n",
    "    for edge in sorted_edges:\n",
    "        a = u.find(edge[0])\n",
    "        b = u.find(edge[1])\n",
    "        if a != b and (u.size(a) < min_size or u.size(b) < min_size):\n",
    "            u.union(a, b)\n",
    "\n",
    "    output = generate_image(u, w, h)\n",
    "    output.save(\"sef2.jpg\")"
   ]
  },
  {
   "cell_type": "code",
   "execution_count": null,
   "metadata": {},
   "outputs": [],
   "source": []
  }
 ],
 "metadata": {
  "kernelspec": {
   "display_name": "Python 3",
   "language": "python",
   "name": "python3"
  },
  "language_info": {
   "codemirror_mode": {
    "name": "ipython",
    "version": 3
   },
   "file_extension": ".py",
   "mimetype": "text/x-python",
   "name": "python",
   "nbconvert_exporter": "python",
   "pygments_lexer": "ipython3",
   "version": "3.7.2"
  }
 },
 "nbformat": 4,
 "nbformat_minor": 2
}
