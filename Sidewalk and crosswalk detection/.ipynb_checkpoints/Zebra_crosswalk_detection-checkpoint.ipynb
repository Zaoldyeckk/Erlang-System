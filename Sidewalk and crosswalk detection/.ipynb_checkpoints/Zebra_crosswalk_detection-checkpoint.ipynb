{
 "cells": [
  {
   "cell_type": "markdown",
   "metadata": {},
   "source": [
    "https://github.com/nis1/Crosswalk-Recognition/blob/master/crosswalkRec.py\n",
    "* Apply filter to get white color\n",
    "* erode\n",
    "* find contour and draw green line strip\n",
    "* calculate median\n",
    "* Check if the point bounded in the median cycle\n",
    "* ransac for left and right\n",
    "* draw ransac circle\n",
    "* Calculate intersection by bounding line\n",
    "* calculate direction vector\n"
   ]
  },
  {
   "cell_type": "code",
   "execution_count": 14,
   "metadata": {},
   "outputs": [],
   "source": [
    "import cv2\n",
    "import numpy as np\n",
    "import matplotlib.pyplot as plt\n",
    "%matplotlib inline"
   ]
  },
  {
   "cell_type": "code",
   "execution_count": 15,
   "metadata": {},
   "outputs": [],
   "source": [
    "def open_img(img):\n",
    "    #image = cv2.imread(img)\n",
    "    image = cv2.imread(img, cv2.IMREAD_GRAYSCALE)\n",
    "    #image = cv2.cvtColor(image,cv2.COLOR_BGR2GRAY)\n",
    "    return image"
   ]
  },
  {
   "cell_type": "code",
   "execution_count": 42,
   "metadata": {},
   "outputs": [],
   "source": [
    "def open_img_color(img):\n",
    "    image = cv2.imread(img)\n",
    "    print(image.shape)\n",
    "    return image"
   ]
  },
  {
   "cell_type": "code",
   "execution_count": 43,
   "metadata": {},
   "outputs": [],
   "source": [
    "def show_image_color(img):\n",
    "    print(img.shape)\n",
    "    plt.imshow(img)\n",
    "    plt.show()"
   ]
  },
  {
   "cell_type": "code",
   "execution_count": 44,
   "metadata": {},
   "outputs": [],
   "source": [
    "def show_image_gray(img):\n",
    "    plt.imshow(img,  cmap='gray')\n",
    "    plt.show()"
   ]
  },
  {
   "cell_type": "code",
   "execution_count": 45,
   "metadata": {},
   "outputs": [],
   "source": [
    "def do_erode(img,iteration):\n",
    "    kernel = np.ones((5,5),np.uint8)\n",
    "    erosion = cv2.erode(img,kernel,iterations = iteration)\n",
    "    show_image_gray(erosion)\n",
    "    return erosion"
   ]
  },
  {
   "cell_type": "code",
   "execution_count": 46,
   "metadata": {},
   "outputs": [],
   "source": [
    "def do_dilate(img,iteration):\n",
    "    #https://docs.opencv.org/3.0-beta/doc/py_tutorials/py_imgproc/py_morphological_ops/py_morphological_ops.html\n",
    "    kernel = np.ones((5,5),np.uint8)\n",
    "    dilation = cv2.dilate(img,kernel,iterations = iteration)\n",
    "    show_image_gray(dilation)\n",
    "    return dilation"
   ]
  },
  {
   "cell_type": "code",
   "execution_count": 47,
   "metadata": {},
   "outputs": [],
   "source": [
    "def filtered_white(img,low_white,high_white):\n",
    "    mask_white = cv2.inRange(img, low_white, high_white)\n",
    "    img = cv2.bitwise_and(img, mask_white)\n",
    "    kernel_size = 5\n",
    "    gauss_gray = cv2.GaussianBlur(img,(kernel_size,kernel_size),0)\n",
    "    show_image_gray(gauss_gray)\n",
    "    return gauss_gray"
   ]
  },
  {
   "cell_type": "code",
   "execution_count": 48,
   "metadata": {},
   "outputs": [],
   "source": [
    "def find_contour(color_img,img):\n",
    "    ### to find the image contour...\n",
    "    ret,thresh = cv2.threshold(img,127,255,0)\n",
    "    im2, contours, hierarchy = cv2.findContours(thresh,cv2.RETR_TREE,cv2.CHAIN_APPROX_NONE)\n",
    "    cv2.drawContours(color_img, contours, -1, (0,255,0), 3)\n",
    "    show_image_color(color_img)\n",
    "    return img"
   ]
  },
  {
   "cell_type": "code",
   "execution_count": 50,
   "metadata": {},
   "outputs": [
    {
     "name": "stdout",
     "output_type": "stream",
     "text": [
      "(3024, 4032, 3)\n"
     ]
    },
    {
     "ename": "TypeError",
     "evalue": "function takes exactly 2 arguments (3 given)",
     "output_type": "error",
     "traceback": [
      "\u001b[0;31m---------------------------------------------------------------------------\u001b[0m",
      "\u001b[0;31mTypeError\u001b[0m                                 Traceback (most recent call last)",
      "\u001b[0;32m<ipython-input-50-26c01d045be1>\u001b[0m in \u001b[0;36m<module>\u001b[0;34m\u001b[0m\n\u001b[1;32m      4\u001b[0m \u001b[0;31m#print(img.dtype)\u001b[0m\u001b[0;34m\u001b[0m\u001b[0;34m\u001b[0m\u001b[0;34m\u001b[0m\u001b[0m\n\u001b[1;32m      5\u001b[0m \u001b[0mimg_c\u001b[0m \u001b[0;34m=\u001b[0m \u001b[0mopen_img_color\u001b[0m\u001b[0;34m(\u001b[0m\u001b[0;34m'../dataset/IMG_1.jpeg'\u001b[0m\u001b[0;34m)\u001b[0m\u001b[0;34m\u001b[0m\u001b[0;34m\u001b[0m\u001b[0m\n\u001b[0;32m----> 6\u001b[0;31m \u001b[0mimg_c\u001b[0m \u001b[0;34m=\u001b[0m \u001b[0mcv2\u001b[0m\u001b[0;34m.\u001b[0m\u001b[0mresize\u001b[0m\u001b[0;34m(\u001b[0m\u001b[0mimg\u001b[0m\u001b[0;34m,\u001b[0m\u001b[0;34m(\u001b[0m\u001b[0;36m480\u001b[0m\u001b[0;34m,\u001b[0m\u001b[0;36m360\u001b[0m\u001b[0;34m,\u001b[0m\u001b[0;36m3\u001b[0m\u001b[0;34m)\u001b[0m\u001b[0;34m)\u001b[0m\u001b[0;34m\u001b[0m\u001b[0;34m\u001b[0m\u001b[0m\n\u001b[0m\u001b[1;32m      7\u001b[0m \u001b[0mshow_image_gray\u001b[0m\u001b[0;34m(\u001b[0m\u001b[0mimg\u001b[0m\u001b[0;34m)\u001b[0m\u001b[0;34m\u001b[0m\u001b[0;34m\u001b[0m\u001b[0m\n\u001b[1;32m      8\u001b[0m \u001b[0mshow_image_color\u001b[0m\u001b[0;34m(\u001b[0m\u001b[0mimg_c\u001b[0m\u001b[0;34m)\u001b[0m\u001b[0;34m\u001b[0m\u001b[0;34m\u001b[0m\u001b[0m\n",
      "\u001b[0;31mTypeError\u001b[0m: function takes exactly 2 arguments (3 given)"
     ]
    }
   ],
   "source": [
    "###main\n",
    "img = open_img('../dataset/IMG_1.jpeg')\n",
    "img = cv2.resize(img,(480,360))\n",
    "#print(img.dtype)\n",
    "img_c = open_img_color('../dataset/IMG_1.jpeg')\n",
    "img_c = cv2.resize(img,(480,360))\n",
    "show_image_gray(img)\n",
    "show_image_color(img_c)\n",
    "img = filtered_white(img,200,255)\n",
    "\n",
    "img = do_erode(img,2)\n",
    "img = find_contour(img_c,img)\n",
    "#img = do_dilate(img,2)"
   ]
  },
  {
   "cell_type": "code",
   "execution_count": null,
   "metadata": {},
   "outputs": [],
   "source": []
  },
  {
   "cell_type": "code",
   "execution_count": null,
   "metadata": {},
   "outputs": [],
   "source": []
  }
 ],
 "metadata": {
  "kernelspec": {
   "display_name": "Python 3",
   "language": "python",
   "name": "python3"
  },
  "language_info": {
   "codemirror_mode": {
    "name": "ipython",
    "version": 3
   },
   "file_extension": ".py",
   "mimetype": "text/x-python",
   "name": "python",
   "nbconvert_exporter": "python",
   "pygments_lexer": "ipython3",
   "version": "3.7.1"
  }
 },
 "nbformat": 4,
 "nbformat_minor": 2
}
